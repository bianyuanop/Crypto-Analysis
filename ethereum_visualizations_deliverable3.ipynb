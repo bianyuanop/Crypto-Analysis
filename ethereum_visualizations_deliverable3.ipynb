{
 "cells": [
  {
   "cell_type": "code",
   "execution_count": 6,
   "id": "d028c4aa",
   "metadata": {},
   "outputs": [
    {
     "name": "stdout",
     "output_type": "stream",
     "text": [
      "Collecting mplfinance\n",
      "  Downloading mplfinance-0.12.9b5-py3-none-any.whl (71 kB)\n",
      "\u001b[K     |████████████████████████████████| 71 kB 1.8 MB/s eta 0:00:011\n",
      "\u001b[?25hRequirement already satisfied: pandas in /home/kishdubey/.local/lib/python3.9/site-packages (from mplfinance) (1.4.2)\n",
      "Requirement already satisfied: matplotlib in /home/kishdubey/.local/lib/python3.9/site-packages (from mplfinance) (3.5.1)\n",
      "Requirement already satisfied: packaging>=20.0 in /home/kishdubey/.local/lib/python3.9/site-packages (from matplotlib->mplfinance) (21.3)\n",
      "Requirement already satisfied: kiwisolver>=1.0.1 in /home/kishdubey/.local/lib/python3.9/site-packages (from matplotlib->mplfinance) (1.4.2)\n",
      "Requirement already satisfied: python-dateutil>=2.7 in /home/kishdubey/.local/lib/python3.9/site-packages (from matplotlib->mplfinance) (2.8.2)\n",
      "Requirement already satisfied: fonttools>=4.22.0 in /home/kishdubey/.local/lib/python3.9/site-packages (from matplotlib->mplfinance) (4.32.0)\n",
      "Requirement already satisfied: pyparsing>=2.2.1 in /home/kishdubey/.local/lib/python3.9/site-packages (from matplotlib->mplfinance) (3.0.7)\n",
      "Requirement already satisfied: cycler>=0.10 in /home/kishdubey/.local/lib/python3.9/site-packages (from matplotlib->mplfinance) (0.11.0)\n",
      "Requirement already satisfied: numpy>=1.17 in /home/kishdubey/anaconda3/lib/python3.9/site-packages (from matplotlib->mplfinance) (1.21.6)\n",
      "Requirement already satisfied: pillow>=6.2.0 in /home/kishdubey/anaconda3/lib/python3.9/site-packages (from matplotlib->mplfinance) (8.4.0)\n",
      "Requirement already satisfied: six>=1.5 in /home/kishdubey/anaconda3/lib/python3.9/site-packages (from python-dateutil>=2.7->matplotlib->mplfinance) (1.16.0)\n",
      "Requirement already satisfied: pytz>=2020.1 in /home/kishdubey/anaconda3/lib/python3.9/site-packages (from pandas->mplfinance) (2021.3)\n",
      "Installing collected packages: mplfinance\n",
      "Successfully installed mplfinance-0.12.9b5\n"
     ]
    }
   ],
   "source": [
    "!pip install mplfinance"
   ]
  },
  {
   "cell_type": "code",
   "execution_count": 18,
   "id": "1588c012",
   "metadata": {},
   "outputs": [],
   "source": [
    "import numpy as np \n",
    "import pandas as pd\n",
    "import matplotlib.pyplot as plt\n",
    "import seaborn as sns\n",
    "color = sns.color_palette()\n",
    "\n",
    "%matplotlib inline"
   ]
  },
  {
   "cell_type": "code",
   "execution_count": 19,
   "id": "87c39f98",
   "metadata": {},
   "outputs": [
    {
     "data": {
      "text/html": [
       "<div>\n",
       "<style scoped>\n",
       "    .dataframe tbody tr th:only-of-type {\n",
       "        vertical-align: middle;\n",
       "    }\n",
       "\n",
       "    .dataframe tbody tr th {\n",
       "        vertical-align: top;\n",
       "    }\n",
       "\n",
       "    .dataframe thead th {\n",
       "        text-align: right;\n",
       "    }\n",
       "</style>\n",
       "<table border=\"1\" class=\"dataframe\">\n",
       "  <thead>\n",
       "    <tr style=\"text-align: right;\">\n",
       "      <th></th>\n",
       "      <th>Date</th>\n",
       "      <th>High</th>\n",
       "      <th>Low</th>\n",
       "      <th>Open</th>\n",
       "      <th>Close</th>\n",
       "      <th>Volume</th>\n",
       "      <th>Marketcap</th>\n",
       "    </tr>\n",
       "  </thead>\n",
       "  <tbody>\n",
       "    <tr>\n",
       "      <th>2404</th>\n",
       "      <td>2019-11-28 23:59:59</td>\n",
       "      <td>7730.072666</td>\n",
       "      <td>7454.121794</td>\n",
       "      <td>7536.820104</td>\n",
       "      <td>7463.106128</td>\n",
       "      <td>1.905012e+10</td>\n",
       "      <td>1.348794e+11</td>\n",
       "    </tr>\n",
       "    <tr>\n",
       "      <th>2972</th>\n",
       "      <td>2021-06-18 23:59:59</td>\n",
       "      <td>38187.260160</td>\n",
       "      <td>35255.854918</td>\n",
       "      <td>38099.477055</td>\n",
       "      <td>35787.244782</td>\n",
       "      <td>3.620089e+10</td>\n",
       "      <td>6.705894e+11</td>\n",
       "    </tr>\n",
       "    <tr>\n",
       "      <th>2180</th>\n",
       "      <td>2019-04-18 23:59:59</td>\n",
       "      <td>5319.986114</td>\n",
       "      <td>5250.506659</td>\n",
       "      <td>5251.480692</td>\n",
       "      <td>5298.385699</td>\n",
       "      <td>1.325649e+10</td>\n",
       "      <td>9.353240e+10</td>\n",
       "    </tr>\n",
       "    <tr>\n",
       "      <th>1899</th>\n",
       "      <td>2018-07-11 23:59:59</td>\n",
       "      <td>6444.959961</td>\n",
       "      <td>6330.470215</td>\n",
       "      <td>6330.770020</td>\n",
       "      <td>6394.709961</td>\n",
       "      <td>3.644860e+09</td>\n",
       "      <td>1.096319e+11</td>\n",
       "    </tr>\n",
       "    <tr>\n",
       "      <th>113</th>\n",
       "      <td>2013-08-20 23:59:59</td>\n",
       "      <td>123.011002</td>\n",
       "      <td>117.508003</td>\n",
       "      <td>119.000000</td>\n",
       "      <td>121.205002</td>\n",
       "      <td>0.000000e+00</td>\n",
       "      <td>1.403830e+09</td>\n",
       "    </tr>\n",
       "  </tbody>\n",
       "</table>\n",
       "</div>"
      ],
      "text/plain": [
       "                    Date          High           Low          Open  \\\n",
       "2404 2019-11-28 23:59:59   7730.072666   7454.121794   7536.820104   \n",
       "2972 2021-06-18 23:59:59  38187.260160  35255.854918  38099.477055   \n",
       "2180 2019-04-18 23:59:59   5319.986114   5250.506659   5251.480692   \n",
       "1899 2018-07-11 23:59:59   6444.959961   6330.470215   6330.770020   \n",
       "113  2013-08-20 23:59:59    123.011002    117.508003    119.000000   \n",
       "\n",
       "             Close        Volume     Marketcap  \n",
       "2404   7463.106128  1.905012e+10  1.348794e+11  \n",
       "2972  35787.244782  3.620089e+10  6.705894e+11  \n",
       "2180   5298.385699  1.325649e+10  9.353240e+10  \n",
       "1899   6394.709961  3.644860e+09  1.096319e+11  \n",
       "113     121.205002  0.000000e+00  1.403830e+09  "
      ]
     },
     "execution_count": 19,
     "metadata": {},
     "output_type": "execute_result"
    }
   ],
   "source": [
    "df = pd.read_csv('./dataset/coins/coin_Bitcoin.csv', parse_dates=['Date'])\n",
    "\n",
    "df.drop([\"Name\"],axis=1, inplace=True)\n",
    "df.drop([\"SNo\"],axis=1, inplace=True)\n",
    "df.drop([\"Symbol\"],axis=1, inplace=True)\n",
    "\n",
    "df.sample(5)"
   ]
  },
  {
   "cell_type": "code",
   "execution_count": 22,
   "id": "0b81fd37",
   "metadata": {},
   "outputs": [
    {
     "data": {
      "image/png": "[encoded data removed]",
      "text/plain": [
       "<Figure size 864x576 with 1 Axes>"
      ]
     },
     "metadata": {
      "needs_background": "light"
     },
     "output_type": "display_data"
    }
   ],
   "source": [
    "import matplotlib.ticker as mticker\n",
    "from mplfinance.original_flavor import candlestick_ohlc\n",
    "import matplotlib.dates as mdates\n",
    "\n",
    "df['Date_mpl'] = df['Date'].apply(lambda x: mdates.date2num(x))\n",
    "\n",
    "fig = plt.figure(figsize=(12,8))\n",
    "ax1 = plt.subplot2grid((1,1), (0,0))\n",
    "\n",
    "temp_df = df[df['Date']>'2021-03-04']\n",
    "ohlc = []\n",
    "for ind, row in temp_df.iterrows():\n",
    "    ol = [row['Date_mpl'],row['Open'], row['High'], row['Low'], row['Close'], row['Volume']]\n",
    "    ohlc.append(ol)\n",
    "    \n",
    "candlestick_ohlc(ax1, ohlc, width=0.4, colorup='#77d879', colordown='#db3f3f')\n",
    "ax1.xaxis.set_major_formatter(mdates.DateFormatter('%Y-%m-%d'))\n",
    "ax1.xaxis.set_major_locator(mticker.MaxNLocator(10))\n",
    "\n",
    "plt.xlabel(\"Date\", fontsize=12)\n",
    "plt.ylabel(\"Price in USD\", fontsize=12)\n",
    "plt.title(\"Candlestick chart for Bitcoin\", fontsize=15)\n",
    "plt.subplots_adjust(left=0.09, bottom=0.20, right=0.94, top=0.90, wspace=0.2, hspace=0)\n",
    "plt.show()"
   ]
  },
  {
   "cell_type": "code",
   "execution_count": null,
   "id": "babafb21",
   "metadata": {},
   "outputs": [],
   "source": []
  }
 ],
 "metadata": {
  "kernelspec": {
   "display_name": "Python 3 (ipykernel)",
   "language": "python",
   "name": "python3"
  },
  "language_info": {
   "codemirror_mode": {
    "name": "ipython",
    "version": 3
   },
   "file_extension": ".py",
   "mimetype": "text/x-python",
   "name": "python",
   "nbconvert_exporter": "python",
   "pygments_lexer": "ipython3",
   "version": "3.9.7"
  }
 },
 "nbformat": 4,
 "nbformat_minor": 5
}
